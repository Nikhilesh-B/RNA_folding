{
 "cells": [
  {
   "cell_type": "code",
   "execution_count": 18,
   "metadata": {},
   "outputs": [
    {
     "name": "stdout",
     "output_type": "stream",
     "text": [
      "❌ Found mismatches or data issues:\n",
      "\n",
      "target_id                                          error                                                                                                sequence  label_count expected_length\n",
      "   6WB1_C Invalid sequence type or non-letter characters GACUCUGGUAACUAGAGAUCCCUCAGACCCUUUUAGUCAGUGUGGAAAAUCU--CUAGCAGUGGCGCCCGAACAGGGACUUGAAAGCGAAAGUAAAGCCAGAG          103            None\n",
      " 6Y0C_IN1 Invalid sequence type or non-letter characters                                                       AGUAGAAACAAGGG--UAUUUUUCUUUACUAGUCUACCCUGCUUUUGCU           49            None\n"
     ]
    }
   ],
   "source": [
    "import pandas as pd\n",
    "\n",
    "def validate_train_data(seq_csv, labels_csv):\n",
    "    sequences_df = pd.read_csv(seq_csv)\n",
    "    labels_df = pd.read_csv(labels_csv)\n",
    "\n",
    "    # Extract target_id from label IDs like \"7KUC_0_1\" → \"7KUC_0\"\n",
    "    labels_df['target_id'] = labels_df['ID'].astype(str).str.rsplit('_', n=1).str[0]\n",
    "    label_counts = labels_df['target_id'].value_counts().to_dict()\n",
    "\n",
    "    mismatches = []\n",
    "\n",
    "    for _, row in sequences_df.iterrows():\n",
    "        target_id = row['target_id']\n",
    "        sequence = row['sequence']\n",
    "\n",
    "        # Validate sequence is a string of letters only\n",
    "        if not isinstance(sequence, str) or not sequence.isalpha():\n",
    "            mismatches.append({\n",
    "                \"target_id\": target_id,\n",
    "                \"error\": \"Invalid sequence type or non-letter characters\",\n",
    "                \"sequence\": sequence,\n",
    "                \"label_count\": label_counts.get(target_id, 0),\n",
    "                \"expected_length\": None\n",
    "            })\n",
    "            continue\n",
    "\n",
    "        expected_len = len(sequence)\n",
    "        actual_count = label_counts.get(target_id, 0)\n",
    "        if actual_count != expected_len:\n",
    "            mismatches.append({\n",
    "                \"target_id\": target_id,\n",
    "                \"error\": \"Mismatch in label count\",\n",
    "                \"sequence\": sequence,\n",
    "                \"label_count\": actual_count,\n",
    "                \"expected_length\": expected_len\n",
    "            })\n",
    "\n",
    "    return pd.DataFrame(mismatches)\n",
    "\n",
    "# Run the validator and print results\n",
    "errors = validate_train_data(\"train_sequences.csv\", \"train_labels.csv\")\n",
    "\n",
    "if errors.empty:\n",
    "    print(\"✅ All sequences are valid and have correct label counts.\")\n",
    "else:\n",
    "    print(\"❌ Found mismatches or data issues:\\n\")\n",
    "    print(errors.to_string(index=False))  # Pretty print mismatches"
   ]
  },
  {
   "cell_type": "code",
   "execution_count": 19,
   "metadata": {},
   "outputs": [],
   "source": [
    "# Remove rows from the training data where target_id appears in errors\n",
    "train_sequences = pd.read_csv(\"train_sequences.csv\")\n",
    "train_sequences = train_sequences[~train_sequences['target_id'].isin(errors['target_id'])]\n",
    "train_sequences.to_csv(\"train_sequences_cleaned.csv\", index=False)\n",
    "\n",
    "train_labels = pd.read_csv(\"train_labels.csv\")\n",
    "train_labels['target_id'] = train_labels['ID'].astype(str).str.rsplit('_', n=1).str[0]\n",
    "train_labels = train_labels[~train_labels['target_id'].isin(errors['target_id'])]\n",
    "train_labels.drop(columns=['target_id'], inplace=True)\n",
    "train_labels.to_csv(\"train_labels_cleaned.csv\", index=False)"
   ]
  },
  {
   "cell_type": "code",
   "execution_count": 20,
   "metadata": {},
   "outputs": [
    {
     "name": "stdout",
     "output_type": "stream",
     "text": [
      "2 mismatches found.\n"
     ]
    }
   ],
   "source": [
    "print(len(errors), \"mismatches found.\")"
   ]
  },
  {
   "cell_type": "code",
   "execution_count": 21,
   "metadata": {},
   "outputs": [
    {
     "name": "stdout",
     "output_type": "stream",
     "text": [
      "✅ All sequences are valid and have correct label counts.\n"
     ]
    }
   ],
   "source": [
    "import pandas as pd\n",
    "\n",
    "def validate_train_data(seq_csv, labels_csv):\n",
    "    sequences_df = pd.read_csv(seq_csv)\n",
    "    labels_df = pd.read_csv(labels_csv)\n",
    "\n",
    "    # Extract target_id from label IDs like \"7KUC_0_1\" → \"7KUC_0\"\n",
    "    labels_df['target_id'] = labels_df['ID'].astype(str).str.rsplit('_', n=1).str[0]\n",
    "    label_counts = labels_df['target_id'].value_counts().to_dict()\n",
    "\n",
    "    mismatches = []\n",
    "\n",
    "    for _, row in sequences_df.iterrows():\n",
    "        target_id = row['target_id']\n",
    "        sequence = row['sequence']\n",
    "\n",
    "        # Validate sequence is a string of letters only\n",
    "        if not isinstance(sequence, str) or not sequence.isalpha():\n",
    "            mismatches.append({\n",
    "                \"target_id\": target_id,\n",
    "                \"error\": \"Invalid sequence type or non-letter characters\",\n",
    "                \"sequence\": sequence,\n",
    "                \"label_count\": label_counts.get(target_id, 0),\n",
    "                \"expected_length\": None\n",
    "            })\n",
    "            continue\n",
    "\n",
    "        expected_len = len(sequence)\n",
    "        actual_count = label_counts.get(target_id, 0)\n",
    "        if actual_count != expected_len:\n",
    "            mismatches.append({\n",
    "                \"target_id\": target_id,\n",
    "                \"error\": \"Mismatch in label count\",\n",
    "                \"sequence\": sequence,\n",
    "                \"label_count\": actual_count,\n",
    "                \"expected_length\": expected_len\n",
    "            })\n",
    "\n",
    "    return pd.DataFrame(mismatches)\n",
    "\n",
    "# Run the validator and print results\n",
    "errors = validate_train_data(\"train_sequences_cleaned.csv\", \"train_labels_cleaned.csv\")\n",
    "\n",
    "if errors.empty:\n",
    "    print(\"✅ All sequences are valid and have correct label counts.\")\n",
    "else:\n",
    "    print(\"❌ Found mismatches or data issues:\\n\")\n",
    "    print(errors.to_string(index=False))  # Pretty print mismatches"
   ]
  },
  {
   "cell_type": "code",
   "execution_count": 22,
   "metadata": {},
   "outputs": [
    {
     "name": "stdout",
     "output_type": "stream",
     "text": [
      "0 mismatches found.\n"
     ]
    }
   ],
   "source": [
    "print(len(errors), \"mismatches found.\")"
   ]
  },
  {
   "cell_type": "code",
   "execution_count": 23,
   "metadata": {},
   "outputs": [
    {
     "ename": "TypeError",
     "evalue": "Must pass either `items`, `like`, or `regex`",
     "output_type": "error",
     "traceback": [
      "\u001b[31m---------------------------------------------------------------------------\u001b[39m",
      "\u001b[31mTypeError\u001b[39m                                 Traceback (most recent call last)",
      "\u001b[32m/var/folders/cf/zk37hd_50bv_nlrdlxrb4q3r0000gn/T/ipykernel_4230/2445722080.py\u001b[39m in \u001b[36m?\u001b[39m\u001b[34m()\u001b[39m\n\u001b[32m----> \u001b[39m\u001b[32m1\u001b[39m errors.filter()\n",
      "\u001b[32m~/opt/miniconda3/envs/RNA_env/lib/python3.12/site-packages/pandas/core/generic.py\u001b[39m in \u001b[36m?\u001b[39m\u001b[34m(self, items, like, regex, axis)\u001b[39m\n\u001b[32m   5812\u001b[39m             matcher = re.compile(regex)\n\u001b[32m   5813\u001b[39m             values = labels.map(f)\n\u001b[32m   5814\u001b[39m             \u001b[38;5;28;01mreturn\u001b[39;00m self.loc(axis=axis)[values]\n\u001b[32m   5815\u001b[39m         \u001b[38;5;28;01melse\u001b[39;00m:\n\u001b[32m-> \u001b[39m\u001b[32m5816\u001b[39m             \u001b[38;5;28;01mraise\u001b[39;00m TypeError(\u001b[33m\"Must pass either `items`, `like`, or `regex`\"\u001b[39m)\n",
      "\u001b[31mTypeError\u001b[39m: Must pass either `items`, `like`, or `regex`"
     ]
    }
   ],
   "source": [
    "errors.filter()"
   ]
  }
 ],
 "metadata": {
  "kernelspec": {
   "display_name": "RNA_env",
   "language": "python",
   "name": "python3"
  },
  "language_info": {
   "codemirror_mode": {
    "name": "ipython",
    "version": 3
   },
   "file_extension": ".py",
   "mimetype": "text/x-python",
   "name": "python",
   "nbconvert_exporter": "python",
   "pygments_lexer": "ipython3",
   "version": "3.12.9"
  }
 },
 "nbformat": 4,
 "nbformat_minor": 2
}
