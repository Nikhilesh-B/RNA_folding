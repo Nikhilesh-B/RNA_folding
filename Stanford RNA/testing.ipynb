{
 "cells": [
  {
   "cell_type": "code",
   "execution_count": 1,
   "metadata": {},
   "outputs": [],
   "source": [
    "import pandas as pd \n",
    "\n",
    "df = pd.read_csv('train_sequences_cleaned.csv')"
   ]
  },
  {
   "cell_type": "code",
   "execution_count": 2,
   "metadata": {},
   "outputs": [
    {
     "name": "stdout",
     "output_type": "stream",
     "text": [
      "  target_id                                           sequence  \\\n",
      "0    7KUC_0                                   GGAGGAAGGAGCCUCC   \n",
      "1    7KUB_0  CUGCUCUACCUUCACCAUGCCAAGUGGUCCCAGGCUGCACCCAUGG...   \n",
      "2    7ZEX_0                                           UAAUGUCG   \n",
      "3    7SHX_0  GGACCCAUAACCCACCUAGACCCUAGCUUCGGCUAGAGGGUCAACG...   \n",
      "4    7ZEW_0                                             AAUAAA   \n",
      "\n",
      "  temporal_cutoff                                        description  \\\n",
      "0      2022-06-01             Ax1 Domain of VEGF Readthrough Element   \n",
      "1      2022-06-01             Au1 Domain of VEGF Readthrough Element   \n",
      "2      2022-05-04        Complex Cyp33-RRMdelta alpha : UAAUGUCG RNA   \n",
      "3      2022-10-19  A functional SNP regulates E-cadherin expressi...   \n",
      "4      2022-04-13                     Complex Cyp33-RRM : AAUAAA RNA   \n",
      "\n",
      "  all_sequences  \n",
      "0           NaN  \n",
      "1           NaN  \n",
      "2           NaN  \n",
      "3           NaN  \n",
      "4           NaN  \n"
     ]
    }
   ],
   "source": [
    "print(df.head())    "
   ]
  },
  {
   "cell_type": "code",
   "execution_count": 4,
   "metadata": {},
   "outputs": [
    {
     "name": "stdout",
     "output_type": "stream",
     "text": [
      "['7KUC_0' '7KUB_0' '7ZEX_0' '7SHX_0' '7ZEW_0' '4CIO_0' '9CPG_0' '9CPG_1'\n",
      " '6N6H_0' '8WUV_0']\n"
     ]
    }
   ],
   "source": [
    "targts = df['target_id'].values\n",
    "print(targts[:10])"
   ]
  },
  {
   "cell_type": "code",
   "execution_count": 5,
   "metadata": {},
   "outputs": [],
   "source": [
    "targets = [target[0:5] for target in targts]\n"
   ]
  },
  {
   "cell_type": "code",
   "execution_count": 6,
   "metadata": {},
   "outputs": [],
   "source": [
    "frequencies ={}\n",
    "\n",
    "for target in targets:\n",
    "    if target in frequencies:\n",
    "        frequencies[target] += 1\n",
    "    else:\n",
    "        frequencies[target] = 1\n",
    "\n",
    "target_set = set(targets)\n"
   ]
  },
  {
   "cell_type": "code",
   "execution_count": 7,
   "metadata": {},
   "outputs": [
    {
     "name": "stdout",
     "output_type": "stream",
     "text": [
      "Total targets: 1522\n",
      "Total targets repeated: 272\n",
      "Repetition %: 17.87%\n"
     ]
    }
   ],
   "source": [
    "total_targets = len(target_set)\n",
    "targets_repeated = 0\n",
    "\n",
    "for target in target_set:\n",
    "    if frequencies[target] > 1:\n",
    "        targets_repeated += 1\n",
    "\n",
    "print(f\"Total targets: {total_targets}\")\n",
    "print(f\"Total targets repeated: {targets_repeated}\")\n",
    "# repetition %\n",
    "repetition = (targets_repeated / total_targets) * 100\n",
    "print(f\"Repetition %: {repetition:.2f}%\")"
   ]
  },
  {
   "cell_type": "code",
   "execution_count": null,
   "metadata": {},
   "outputs": [],
   "source": []
  }
 ],
 "metadata": {
  "kernelspec": {
   "display_name": "Python 3",
   "language": "python",
   "name": "python3"
  },
  "language_info": {
   "codemirror_mode": {
    "name": "ipython",
    "version": 3
   },
   "file_extension": ".py",
   "mimetype": "text/x-python",
   "name": "python",
   "nbconvert_exporter": "python",
   "pygments_lexer": "ipython3",
   "version": "3.12.9"
  }
 },
 "nbformat": 4,
 "nbformat_minor": 2
}
