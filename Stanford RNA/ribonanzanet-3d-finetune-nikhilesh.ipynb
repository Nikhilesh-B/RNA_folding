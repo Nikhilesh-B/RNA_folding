{
 "cells": [
  {
   "cell_type": "code",
   "execution_count": 27,
   "metadata": {
    "_cell_guid": "b1076dfc-b9ad-4769-8c92-a6c4dae69d19",
    "_uuid": "8f2839f25d086af736a60e9eeb907d3b93b6e0e5",
    "execution": {
     "iopub.execute_input": "2025-03-21T23:10:38.414640Z",
     "iopub.status.busy": "2025-03-21T23:10:38.414345Z",
     "iopub.status.idle": "2025-03-21T23:10:42.995602Z",
     "shell.execute_reply": "2025-03-21T23:10:42.994853Z",
     "shell.execute_reply.started": "2025-03-21T23:10:38.414605Z"
    },
    "trusted": true
   },
   "outputs": [],
   "source": [
    "import torch\n",
    "import matplotlib.pyplot as plt\n",
    "import numpy as np\n",
    "import random\n",
    "import pickle\n",
    "from tqdm import tqdm\n",
    "import pandas as pd\n",
    "from huggingface_hub import hf_hub_download, HfApi"
   ]
  },
  {
   "cell_type": "code",
   "execution_count": 28,
   "metadata": {
    "execution": {
     "iopub.execute_input": "2025-03-21T23:11:11.461598Z",
     "iopub.status.busy": "2025-03-21T23:11:11.461263Z",
     "iopub.status.idle": "2025-03-21T23:11:11.468915Z",
     "shell.execute_reply": "2025-03-21T23:11:11.468026Z",
     "shell.execute_reply.started": "2025-03-21T23:11:11.461568Z"
    },
    "trusted": true
   },
   "outputs": [],
   "source": [
    "#set seed for everything\n",
    "SEED=0\n",
    "torch.manual_seed(SEED)\n",
    "np.random.seed(SEED)\n",
    "random.seed(SEED)"
   ]
  },
  {
   "cell_type": "markdown",
   "metadata": {},
   "source": [
    "# Config"
   ]
  },
  {
   "cell_type": "code",
   "execution_count": 29,
   "metadata": {
    "execution": {
     "iopub.execute_input": "2025-03-21T23:13:32.573844Z",
     "iopub.status.busy": "2025-03-21T23:13:32.573534Z",
     "iopub.status.idle": "2025-03-21T23:13:32.578261Z",
     "shell.execute_reply": "2025-03-21T23:13:32.577408Z",
     "shell.execute_reply.started": "2025-03-21T23:13:32.573823Z"
    },
    "trusted": true
   },
   "outputs": [],
   "source": [
    "config = {\n",
    "    \"seed\": SEED,\n",
    "    \"cutoff_date\": \"2020-01-01\",\n",
    "    \"test_cutoff_date\": \"2022-05-01\",\n",
    "    \"max_len\": 384,\n",
    "    \"batch_size\": 1,\n",
    "    \"learning_rate\": 1e-4,\n",
    "    \"weight_decay\": 0.0,\n",
    "    \"mixed_precision\": \"bf16\",\n",
    "    \"model_config_path\": \"../working/configs/pairwise.yaml\",  # Adjust path as needed\n",
    "    \"epochs\": 10,\n",
    "    \"cos_epoch\": 5,\n",
    "    \"loss_power_scale\": 1.0,\n",
    "    \"max_cycles\": 1,\n",
    "    \"grad_clip\": 0.1,\n",
    "    \"gradient_accumulation_steps\": 1,\n",
    "    \"d_clamp\": 30,\n",
    "    \"max_len_filter\": 9999999,\n",
    "    \"min_len_filter\": 10, \n",
    "    \"structural_violation_epoch\": 50,\n",
    "    \"balance_weight\": False,\n",
    "}"
   ]
  },
  {
   "cell_type": "markdown",
   "metadata": {
    "execution": {
     "iopub.execute_input": "2025-02-27T00:35:07.63984Z",
     "iopub.status.busy": "2025-02-27T00:35:07.639563Z",
     "iopub.status.idle": "2025-02-27T00:35:07.643454Z",
     "shell.execute_reply": "2025-02-27T00:35:07.64259Z",
     "shell.execute_reply.started": "2025-02-27T00:35:07.639817Z"
    }
   },
   "source": [
    "# Get data and do some data processing¶\n"
   ]
  },
  {
   "cell_type": "code",
   "execution_count": 30,
   "metadata": {
    "execution": {
     "iopub.execute_input": "2025-03-21T23:11:36.500539Z",
     "iopub.status.busy": "2025-03-21T23:11:36.500238Z",
     "iopub.status.idle": "2025-03-21T23:11:36.808787Z",
     "shell.execute_reply": "2025-03-21T23:11:36.807876Z",
     "shell.execute_reply.started": "2025-03-21T23:11:36.500516Z"
    },
    "trusted": true
   },
   "outputs": [],
   "source": [
    "# Load data\n",
    "train_sequences=pd.read_csv(\"./train_sequences.csv\")\n",
    "train_labels=pd.read_csv(\"./train_labels.csv\")"
   ]
  },
  {
   "cell_type": "code",
   "execution_count": 31,
   "metadata": {
    "execution": {
     "iopub.execute_input": "2025-03-21T23:20:23.078938Z",
     "iopub.status.busy": "2025-03-21T23:20:23.078498Z",
     "iopub.status.idle": "2025-03-21T23:20:23.177951Z",
     "shell.execute_reply": "2025-03-21T23:20:23.177128Z",
     "shell.execute_reply.started": "2025-03-21T23:20:23.078903Z"
    },
    "trusted": true
   },
   "outputs": [
    {
     "data": {
      "text/plain": [
       "0         1SCL_A\n",
       "1         1SCL_A\n",
       "2         1SCL_A\n",
       "3         1SCL_A\n",
       "4         1SCL_A\n",
       "           ...  \n",
       "137090    8Z1F_T\n",
       "137091    8Z1F_T\n",
       "137092    8Z1F_T\n",
       "137093    8Z1F_T\n",
       "137094    8Z1F_T\n",
       "Name: pdb_id, Length: 137095, dtype: object"
      ]
     },
     "execution_count": 31,
     "metadata": {},
     "output_type": "execute_result"
    }
   ],
   "source": [
    "train_labels[\"pdb_id\"] = train_labels[\"ID\"].apply(lambda x: x.split(\"_\")[0]+'_'+x.split(\"_\")[1])\n",
    "train_labels[\"pdb_id\"] "
   ]
  },
  {
   "cell_type": "code",
   "execution_count": 32,
   "metadata": {
    "execution": {
     "iopub.execute_input": "2025-03-21T23:20:40.482134Z",
     "iopub.status.busy": "2025-03-21T23:20:40.481795Z",
     "iopub.status.idle": "2025-03-21T23:20:48.894072Z",
     "shell.execute_reply": "2025-03-21T23:20:48.893391Z",
     "shell.execute_reply.started": "2025-03-21T23:20:40.482109Z"
    },
    "trusted": true
   },
   "outputs": [
    {
     "name": "stderr",
     "output_type": "stream",
     "text": [
      "  0%|          | 0/844 [00:00<?, ?it/s]"
     ]
    },
    {
     "name": "stderr",
     "output_type": "stream",
     "text": [
      "100%|██████████| 844/844 [00:08<00:00, 99.24it/s] \n"
     ]
    },
    {
     "data": {
      "text/html": [
       "<div>\n",
       "<style scoped>\n",
       "    .dataframe tbody tr th:only-of-type {\n",
       "        vertical-align: middle;\n",
       "    }\n",
       "\n",
       "    .dataframe tbody tr th {\n",
       "        vertical-align: top;\n",
       "    }\n",
       "\n",
       "    .dataframe thead th {\n",
       "        text-align: right;\n",
       "    }\n",
       "</style>\n",
       "<table border=\"1\" class=\"dataframe\">\n",
       "  <thead>\n",
       "    <tr style=\"text-align: right;\">\n",
       "      <th></th>\n",
       "      <th>ID</th>\n",
       "      <th>resname</th>\n",
       "      <th>resid</th>\n",
       "      <th>x_1</th>\n",
       "      <th>y_1</th>\n",
       "      <th>z_1</th>\n",
       "      <th>pdb_id</th>\n",
       "    </tr>\n",
       "  </thead>\n",
       "  <tbody>\n",
       "    <tr>\n",
       "      <th>137009</th>\n",
       "      <td>8Z1F_T_1</td>\n",
       "      <td>G</td>\n",
       "      <td>1</td>\n",
       "      <td>103.195999</td>\n",
       "      <td>112.250999</td>\n",
       "      <td>104.455002</td>\n",
       "      <td>8Z1F_T</td>\n",
       "    </tr>\n",
       "    <tr>\n",
       "      <th>137010</th>\n",
       "      <td>8Z1F_T_2</td>\n",
       "      <td>G</td>\n",
       "      <td>2</td>\n",
       "      <td>107.467003</td>\n",
       "      <td>108.984001</td>\n",
       "      <td>106.205002</td>\n",
       "      <td>8Z1F_T</td>\n",
       "    </tr>\n",
       "    <tr>\n",
       "      <th>137011</th>\n",
       "      <td>8Z1F_T_3</td>\n",
       "      <td>U</td>\n",
       "      <td>3</td>\n",
       "      <td>111.919998</td>\n",
       "      <td>107.942001</td>\n",
       "      <td>109.775002</td>\n",
       "      <td>8Z1F_T</td>\n",
       "    </tr>\n",
       "    <tr>\n",
       "      <th>137012</th>\n",
       "      <td>8Z1F_T_4</td>\n",
       "      <td>A</td>\n",
       "      <td>4</td>\n",
       "      <td>114.685997</td>\n",
       "      <td>108.813004</td>\n",
       "      <td>114.404999</td>\n",
       "      <td>8Z1F_T</td>\n",
       "    </tr>\n",
       "    <tr>\n",
       "      <th>137013</th>\n",
       "      <td>8Z1F_T_5</td>\n",
       "      <td>A</td>\n",
       "      <td>5</td>\n",
       "      <td>114.921997</td>\n",
       "      <td>110.031998</td>\n",
       "      <td>120.849998</td>\n",
       "      <td>8Z1F_T</td>\n",
       "    </tr>\n",
       "    <tr>\n",
       "      <th>...</th>\n",
       "      <td>...</td>\n",
       "      <td>...</td>\n",
       "      <td>...</td>\n",
       "      <td>...</td>\n",
       "      <td>...</td>\n",
       "      <td>...</td>\n",
       "      <td>...</td>\n",
       "    </tr>\n",
       "    <tr>\n",
       "      <th>137090</th>\n",
       "      <td>8Z1F_T_82</td>\n",
       "      <td>U</td>\n",
       "      <td>82</td>\n",
       "      <td>NaN</td>\n",
       "      <td>NaN</td>\n",
       "      <td>NaN</td>\n",
       "      <td>8Z1F_T</td>\n",
       "    </tr>\n",
       "    <tr>\n",
       "      <th>137091</th>\n",
       "      <td>8Z1F_T_83</td>\n",
       "      <td>C</td>\n",
       "      <td>83</td>\n",
       "      <td>NaN</td>\n",
       "      <td>NaN</td>\n",
       "      <td>NaN</td>\n",
       "      <td>8Z1F_T</td>\n",
       "    </tr>\n",
       "    <tr>\n",
       "      <th>137092</th>\n",
       "      <td>8Z1F_T_84</td>\n",
       "      <td>A</td>\n",
       "      <td>84</td>\n",
       "      <td>NaN</td>\n",
       "      <td>NaN</td>\n",
       "      <td>NaN</td>\n",
       "      <td>8Z1F_T</td>\n",
       "    </tr>\n",
       "    <tr>\n",
       "      <th>137093</th>\n",
       "      <td>8Z1F_T_85</td>\n",
       "      <td>U</td>\n",
       "      <td>85</td>\n",
       "      <td>NaN</td>\n",
       "      <td>NaN</td>\n",
       "      <td>NaN</td>\n",
       "      <td>8Z1F_T</td>\n",
       "    </tr>\n",
       "    <tr>\n",
       "      <th>137094</th>\n",
       "      <td>8Z1F_T_86</td>\n",
       "      <td>A</td>\n",
       "      <td>86</td>\n",
       "      <td>NaN</td>\n",
       "      <td>NaN</td>\n",
       "      <td>NaN</td>\n",
       "      <td>8Z1F_T</td>\n",
       "    </tr>\n",
       "  </tbody>\n",
       "</table>\n",
       "<p>86 rows × 7 columns</p>\n",
       "</div>"
      ],
      "text/plain": [
       "               ID resname  resid         x_1         y_1         z_1  pdb_id\n",
       "137009   8Z1F_T_1       G      1  103.195999  112.250999  104.455002  8Z1F_T\n",
       "137010   8Z1F_T_2       G      2  107.467003  108.984001  106.205002  8Z1F_T\n",
       "137011   8Z1F_T_3       U      3  111.919998  107.942001  109.775002  8Z1F_T\n",
       "137012   8Z1F_T_4       A      4  114.685997  108.813004  114.404999  8Z1F_T\n",
       "137013   8Z1F_T_5       A      5  114.921997  110.031998  120.849998  8Z1F_T\n",
       "...           ...     ...    ...         ...         ...         ...     ...\n",
       "137090  8Z1F_T_82       U     82         NaN         NaN         NaN  8Z1F_T\n",
       "137091  8Z1F_T_83       C     83         NaN         NaN         NaN  8Z1F_T\n",
       "137092  8Z1F_T_84       A     84         NaN         NaN         NaN  8Z1F_T\n",
       "137093  8Z1F_T_85       U     85         NaN         NaN         NaN  8Z1F_T\n",
       "137094  8Z1F_T_86       A     86         NaN         NaN         NaN  8Z1F_T\n",
       "\n",
       "[86 rows x 7 columns]"
      ]
     },
     "execution_count": 32,
     "metadata": {},
     "output_type": "execute_result"
    }
   ],
   "source": [
    "all_xyz=[]\n",
    "\n",
    "for pdb_id in tqdm(train_sequences['target_id']):\n",
    "    df = train_labels[train_labels[\"pdb_id\"]==pdb_id]\n",
    "    #break\n",
    "    xyz=df[['x_1','y_1','z_1']].to_numpy().astype('float32')\n",
    "    xyz[xyz<-1e17]=float('Nan');\n",
    "    all_xyz.append(xyz)\n",
    "\n",
    "df"
   ]
  },
  {
   "cell_type": "code",
   "execution_count": 7,
   "metadata": {
    "execution": {
     "iopub.execute_input": "2025-03-21T23:35:24.084955Z",
     "iopub.status.busy": "2025-03-21T23:35:24.084582Z",
     "iopub.status.idle": "2025-03-21T23:35:24.102890Z",
     "shell.execute_reply": "2025-03-21T23:35:24.102127Z",
     "shell.execute_reply.started": "2025-03-21T23:35:24.084925Z"
    },
    "trusted": true
   },
   "outputs": [
    {
     "name": "stdout",
     "output_type": "stream",
     "text": [
      "Longest sequence in train: 4298\n"
     ]
    }
   ],
   "source": [
    "# filter the data\n",
    "# Filter and process data\n",
    "filter_nan = []\n",
    "max_len = 0\n",
    "for xyz in all_xyz:\n",
    "    if len(xyz) > max_len:\n",
    "        max_len = len(xyz)\n",
    "\n",
    "    #fill -1e18 masked sequences to nans\n",
    "    \n",
    "    #sugar_xyz = np.stack([nt_xyz['sugar_ring'] for nt_xyz in xyz], axis=0)\n",
    "    filter_nan.append((np.isnan(xyz).mean() <= 0.5) & \\\n",
    "                      (len(xyz)<config['max_len_filter']) & \\\n",
    "                      (len(xyz)>config['min_len_filter']))\n",
    "\n",
    "print(f\"Longest sequence in train: {max_len}\")\n",
    "\n",
    "\n",
    "# selecting based on boolean filtering of the non_nan_indices\n",
    "filter_nan = np.array(filter_nan)\n",
    "non_nan_indices = np.arange(len(filter_nan))[filter_nan]\n",
    "\n",
    "train_sequences = train_sequences.loc[non_nan_indices].reset_index(drop=True)\n",
    "all_xyz=[all_xyz[i] for i in non_nan_indices]"
   ]
  },
  {
   "cell_type": "code",
   "execution_count": 8,
   "metadata": {
    "execution": {
     "iopub.execute_input": "2025-03-21T23:38:56.589354Z",
     "iopub.status.busy": "2025-03-21T23:38:56.589009Z",
     "iopub.status.idle": "2025-03-21T23:38:56.593797Z",
     "shell.execute_reply": "2025-03-21T23:38:56.592805Z",
     "shell.execute_reply.started": "2025-03-21T23:38:56.589328Z"
    },
    "trusted": true
   },
   "outputs": [],
   "source": [
    "#pack data into a dictionary\n",
    "\n",
    "data={\n",
    "      \"sequence\":train_sequences['sequence'].to_list(),\n",
    "      \"temporal_cutoff\": train_sequences['temporal_cutoff'].to_list(),\n",
    "      \"description\": train_sequences['description'].to_list(),\n",
    "      \"all_sequences\": train_sequences['all_sequences'].to_list(),\n",
    "      \"xyz\": all_xyz\n",
    "}"
   ]
  },
  {
   "cell_type": "markdown",
   "metadata": {},
   "source": [
    "# Split train data into train/val/test¶\n",
    "We will simply do a temporal split, because that's how testing is done in structural biology in general (in actual blind tests)"
   ]
  },
  {
   "cell_type": "code",
   "execution_count": 9,
   "metadata": {
    "execution": {
     "iopub.execute_input": "2025-03-21T23:40:26.099806Z",
     "iopub.status.busy": "2025-03-21T23:40:26.099511Z",
     "iopub.status.idle": "2025-03-21T23:40:26.106977Z",
     "shell.execute_reply": "2025-03-21T23:40:26.106085Z",
     "shell.execute_reply.started": "2025-03-21T23:40:26.099784Z"
    },
    "trusted": true
   },
   "outputs": [],
   "source": [
    "# Split data into train and test\n",
    "all_index = np.arange(len(data['sequence']))\n",
    "cutoff_date = pd.Timestamp(config['cutoff_date'])\n",
    "test_cutoff_date = pd.Timestamp(config['test_cutoff_date'])\n",
    "train_index = [i for i, d in enumerate(data['temporal_cutoff']) if pd.Timestamp(d) <= cutoff_date]\n",
    "test_index = [i for i, d in enumerate(data['temporal_cutoff']) if pd.Timestamp(d) > cutoff_date and pd.Timestamp(d) <= test_cutoff_date]"
   ]
  },
  {
   "cell_type": "code",
   "execution_count": 10,
   "metadata": {
    "execution": {
     "iopub.execute_input": "2025-03-21T23:40:27.940179Z",
     "iopub.status.busy": "2025-03-21T23:40:27.939872Z",
     "iopub.status.idle": "2025-03-21T23:40:27.945129Z",
     "shell.execute_reply": "2025-03-21T23:40:27.944103Z",
     "shell.execute_reply.started": "2025-03-21T23:40:27.940158Z"
    },
    "trusted": true
   },
   "outputs": [
    {
     "name": "stdout",
     "output_type": "stream",
     "text": [
      "Train size: 542\n",
      "Test size: 80\n"
     ]
    }
   ],
   "source": [
    "print(f\"Train size: {len(train_index)}\")\n",
    "print(f\"Test size: {len(test_index)}\")"
   ]
  },
  {
   "cell_type": "markdown",
   "metadata": {},
   "source": [
    "# Get pytorch dataset¶"
   ]
  },
  {
   "cell_type": "code",
   "execution_count": 11,
   "metadata": {
    "execution": {
     "iopub.execute_input": "2025-03-22T00:23:36.355613Z",
     "iopub.status.busy": "2025-03-22T00:23:36.355305Z",
     "iopub.status.idle": "2025-03-22T00:23:36.362353Z",
     "shell.execute_reply": "2025-03-22T00:23:36.361479Z",
     "shell.execute_reply.started": "2025-03-22T00:23:36.355591Z"
    },
    "trusted": true
   },
   "outputs": [],
   "source": [
    "from torch.utils.data import Dataset, DataLoader\n",
    "from ast import literal_eval\n",
    "\n",
    "def get_ct(bp,s):\n",
    "    ct_matrix=np.zeros((len(s),len(s)))\n",
    "    for b in bp:\n",
    "        ct_matrix[b[0]-1,b[1]-1]=1\n",
    "    return ct_matrix\n",
    "\n",
    "class RNA3D_Dataset(Dataset):\n",
    "    def __init__(self,indices,data):\n",
    "        self.indices=indices\n",
    "        self.data=data\n",
    "        self.tokens={nt:i for i,nt in enumerate('ACGU')}\n",
    "\n",
    "    def __len__(self):\n",
    "        return len(self.indices)\n",
    "    \n",
    "    def __getitem__(self, idx):\n",
    "\n",
    "        idx=self.indices[idx]\n",
    "        sequence=[self.tokens[nt] for nt in (self.data['sequence'][idx])]\n",
    "        sequence=np.array(sequence)\n",
    "        sequence=torch.tensor(sequence)\n",
    "\n",
    "        #get C1' xyz\n",
    "        xyz=self.data['xyz'][idx]\n",
    "        xyz=torch.tensor(np.array(xyz))\n",
    "\n",
    "\n",
    "        if len(sequence)>config['max_len']:\n",
    "            crop_start=np.random.randint(len(sequence)-config['max_len'])\n",
    "            crop_end=crop_start+config['max_len']\n",
    "\n",
    "            sequence=sequence[crop_start:crop_end]\n",
    "            xyz=xyz[crop_start:crop_end]\n",
    "        \n",
    "\n",
    "        return {'sequence':sequence,\n",
    "                'xyz':xyz}"
   ]
  },
  {
   "cell_type": "code",
   "execution_count": 12,
   "metadata": {
    "execution": {
     "iopub.execute_input": "2025-03-22T00:23:39.555654Z",
     "iopub.status.busy": "2025-03-22T00:23:39.555347Z",
     "iopub.status.idle": "2025-03-22T00:23:39.559518Z",
     "shell.execute_reply": "2025-03-22T00:23:39.558522Z",
     "shell.execute_reply.started": "2025-03-22T00:23:39.555624Z"
    },
    "trusted": true
   },
   "outputs": [],
   "source": [
    "train_dataset=RNA3D_Dataset(train_index,data)\n",
    "val_dataset=RNA3D_Dataset(test_index,data)"
   ]
  },
  {
   "cell_type": "code",
   "execution_count": 13,
   "metadata": {
    "execution": {
     "iopub.execute_input": "2025-03-22T00:25:24.301931Z",
     "iopub.status.busy": "2025-03-22T00:25:24.301574Z",
     "iopub.status.idle": "2025-03-22T00:25:24.321341Z",
     "shell.execute_reply": "2025-03-22T00:25:24.320397Z",
     "shell.execute_reply.started": "2025-03-22T00:25:24.301900Z"
    },
    "trusted": true
   },
   "outputs": [
    {
     "data": {
      "application/vnd.plotly.v1+json": {
       "config": {
        "plotlyServerURL": "https://plot.ly"
       },
       "data": [
        {
         "marker": {
          "color": {
           "bdata": "cZ0aQyUGFENg5Q5DRCsMQyGQCUO28whDVCMHQ6abAEOH1v1C5dAEQxJDBUMEVgNDZub/QmIQ9EJcj/JC+FP0QrLd6UL6fuBCjVfbQgBA6ULuvOdCfT/vQgKr7EJcT/JCMzP5QtWYAEPuXAJDgXUBQ3np+kJ3PvJCe5TqQhvv5kL6/upCke3xQhID+EJUQwJDACAEQ+MlAUMObflCfX/wQmLQ50J3fuRCtjPnQovs7UJoUfZCDi37QpNY/kKHlvxCx+sGQ2gxBkMQWARDuL4BQ5Gt/ELBCvRCJUbqQlj53EJIYeNC30/vQvo+90LX4/VCeWn4QqBaAEPdRARDsJIIQ7DSDEOgmg5DSEEPQ0IAEEMrxxBDg2AUQwAAwH8AAMB/AADAfwAAwH8AAMB/AADAfw==",
           "dtype": "f4"
          },
          "colorscale": [
           [
            0,
            "#440154"
           ],
           [
            0.1111111111111111,
            "#482878"
           ],
           [
            0.2222222222222222,
            "#3e4989"
           ],
           [
            0.3333333333333333,
            "#31688e"
           ],
           [
            0.4444444444444444,
            "#26828e"
           ],
           [
            0.5555555555555556,
            "#1f9e89"
           ],
           [
            0.6666666666666666,
            "#35b779"
           ],
           [
            0.7777777777777778,
            "#6ece58"
           ],
           [
            0.8888888888888888,
            "#b5de2b"
           ],
           [
            1,
            "#fde725"
           ]
          ],
          "opacity": 0.8,
          "size": 5
         },
         "mode": "markers",
         "type": "scatter3d",
         "x": {
          "bdata": "8GfoQrCy7kK0yOtCOx/hQjm010LJds5CQuDHQn2/v0JzKLBC1+OmQgwCqkJgpa9Cd362Qiexu0J1U8VCJ7HTQsEK2kKHltRC2znHQhfZwUIGQb5CBNa9Qr7ftULfz61CQqCmQk5ioEJY+ZxCf2qZQqhGlEIb741C2U6HQu78gELRInRC0aJiQjcJR0LV+FNCCtdnQky3dEKoxn9CzzeDQoUriEIKV45Cf6qUQlL4mkIE1qFCmK6qQjGIt0JC4MNCiYHHQsXgzEKNF9dCexTgQl665kKPAulCM3PmQi9d4kIGgdpCg4DXQlpkykI5dNJCkxjiQpYD6ELDteZCLXLiQnd+2EJGNs1CL13IQlqky0Ib79RCoNrfQgAAwH8AAMB/AADAfwAAwH8AAMB/AADAfw==",
          "dtype": "f4"
         },
         "y": {
          "bdata": "XrppQnE9WEJvkk5Cj0JJQhkESkJcD1dCBNZrQjm0a0Lb+XdCNwl3QjMzYEJtZ01CMzNPQnE9TkICK1ZC16NKQsWgaEKk8G9C0SJiQuOlcULVeIhCYhBzQmbmXUJ3PlFC0aJMQuXQUkLppmRCYOV5QoWrgkKN14NCKweBQisHcUJQDWRCcb1kQg6tbUItMl9CJzFbQgRWUkLn+0ZC+NNLQrRIWEIQ2GdCnMR1Qi+dgULyUoVCG++CQlTjfEIE1nlCXvqCQm3ni0IE1pBCybaPQmAliUJKDINCI1uBQpxEhkJOooFCWmR9QnE9ckJ7FGRCpptsQgTWdkLyUoJCf6qHQqjGiULZjoRCj8JrQgAAU0L+VEZCphswQgAAwH8AAMB/AADAfwAAwH8AAMB/AADAfw==",
          "dtype": "f4"
         },
         "z": {
          "bdata": "cZ0aQyUGFENg5Q5DRCsMQyGQCUO28whDVCMHQ6abAEOH1v1C5dAEQxJDBUMEVgNDZub/QmIQ9EJcj/JC+FP0QrLd6UL6fuBCjVfbQgBA6ULuvOdCfT/vQgKr7EJcT/JCMzP5QtWYAEPuXAJDgXUBQ3np+kJ3PvJCe5TqQhvv5kL6/upCke3xQhID+EJUQwJDACAEQ+MlAUMObflCfX/wQmLQ50J3fuRCtjPnQovs7UJoUfZCDi37QpNY/kKHlvxCx+sGQ2gxBkMQWARDuL4BQ5Gt/ELBCvRCJUbqQlj53EJIYeNC30/vQvo+90LX4/VCeWn4QqBaAEPdRARDsJIIQ7DSDEOgmg5DSEEPQ0IAEEMrxxBDg2AUQwAAwH8AAMB/AADAfwAAwH8AAMB/AADAfw==",
          "dtype": "f4"
         }
        }
       ],
       "layout": {
        "scene": {
         "xaxis": {
          "title": {
           "text": "X"
          }
         },
         "yaxis": {
          "title": {
           "text": "Y"
          }
         },
         "zaxis": {
          "title": {
           "text": "Z"
          }
         }
        },
        "template": {
         "data": {
          "bar": [
           {
            "error_x": {
             "color": "#2a3f5f"
            },
            "error_y": {
             "color": "#2a3f5f"
            },
            "marker": {
             "line": {
              "color": "#E5ECF6",
              "width": 0.5
             },
             "pattern": {
              "fillmode": "overlay",
              "size": 10,
              "solidity": 0.2
             }
            },
            "type": "bar"
           }
          ],
          "barpolar": [
           {
            "marker": {
             "line": {
              "color": "#E5ECF6",
              "width": 0.5
             },
             "pattern": {
              "fillmode": "overlay",
              "size": 10,
              "solidity": 0.2
             }
            },
            "type": "barpolar"
           }
          ],
          "carpet": [
           {
            "aaxis": {
             "endlinecolor": "#2a3f5f",
             "gridcolor": "white",
             "linecolor": "white",
             "minorgridcolor": "white",
             "startlinecolor": "#2a3f5f"
            },
            "baxis": {
             "endlinecolor": "#2a3f5f",
             "gridcolor": "white",
             "linecolor": "white",
             "minorgridcolor": "white",
             "startlinecolor": "#2a3f5f"
            },
            "type": "carpet"
           }
          ],
          "choropleth": [
           {
            "colorbar": {
             "outlinewidth": 0,
             "ticks": ""
            },
            "type": "choropleth"
           }
          ],
          "contour": [
           {
            "colorbar": {
             "outlinewidth": 0,
             "ticks": ""
            },
            "colorscale": [
             [
              0,
              "#0d0887"
             ],
             [
              0.1111111111111111,
              "#46039f"
             ],
             [
              0.2222222222222222,
              "#7201a8"
             ],
             [
              0.3333333333333333,
              "#9c179e"
             ],
             [
              0.4444444444444444,
              "#bd3786"
             ],
             [
              0.5555555555555556,
              "#d8576b"
             ],
             [
              0.6666666666666666,
              "#ed7953"
             ],
             [
              0.7777777777777778,
              "#fb9f3a"
             ],
             [
              0.8888888888888888,
              "#fdca26"
             ],
             [
              1,
              "#f0f921"
             ]
            ],
            "type": "contour"
           }
          ],
          "contourcarpet": [
           {
            "colorbar": {
             "outlinewidth": 0,
             "ticks": ""
            },
            "type": "contourcarpet"
           }
          ],
          "heatmap": [
           {
            "colorbar": {
             "outlinewidth": 0,
             "ticks": ""
            },
            "colorscale": [
             [
              0,
              "#0d0887"
             ],
             [
              0.1111111111111111,
              "#46039f"
             ],
             [
              0.2222222222222222,
              "#7201a8"
             ],
             [
              0.3333333333333333,
              "#9c179e"
             ],
             [
              0.4444444444444444,
              "#bd3786"
             ],
             [
              0.5555555555555556,
              "#d8576b"
             ],
             [
              0.6666666666666666,
              "#ed7953"
             ],
             [
              0.7777777777777778,
              "#fb9f3a"
             ],
             [
              0.8888888888888888,
              "#fdca26"
             ],
             [
              1,
              "#f0f921"
             ]
            ],
            "type": "heatmap"
           }
          ],
          "histogram": [
           {
            "marker": {
             "pattern": {
              "fillmode": "overlay",
              "size": 10,
              "solidity": 0.2
             }
            },
            "type": "histogram"
           }
          ],
          "histogram2d": [
           {
            "colorbar": {
             "outlinewidth": 0,
             "ticks": ""
            },
            "colorscale": [
             [
              0,
              "#0d0887"
             ],
             [
              0.1111111111111111,
              "#46039f"
             ],
             [
              0.2222222222222222,
              "#7201a8"
             ],
             [
              0.3333333333333333,
              "#9c179e"
             ],
             [
              0.4444444444444444,
              "#bd3786"
             ],
             [
              0.5555555555555556,
              "#d8576b"
             ],
             [
              0.6666666666666666,
              "#ed7953"
             ],
             [
              0.7777777777777778,
              "#fb9f3a"
             ],
             [
              0.8888888888888888,
              "#fdca26"
             ],
             [
              1,
              "#f0f921"
             ]
            ],
            "type": "histogram2d"
           }
          ],
          "histogram2dcontour": [
           {
            "colorbar": {
             "outlinewidth": 0,
             "ticks": ""
            },
            "colorscale": [
             [
              0,
              "#0d0887"
             ],
             [
              0.1111111111111111,
              "#46039f"
             ],
             [
              0.2222222222222222,
              "#7201a8"
             ],
             [
              0.3333333333333333,
              "#9c179e"
             ],
             [
              0.4444444444444444,
              "#bd3786"
             ],
             [
              0.5555555555555556,
              "#d8576b"
             ],
             [
              0.6666666666666666,
              "#ed7953"
             ],
             [
              0.7777777777777778,
              "#fb9f3a"
             ],
             [
              0.8888888888888888,
              "#fdca26"
             ],
             [
              1,
              "#f0f921"
             ]
            ],
            "type": "histogram2dcontour"
           }
          ],
          "mesh3d": [
           {
            "colorbar": {
             "outlinewidth": 0,
             "ticks": ""
            },
            "type": "mesh3d"
           }
          ],
          "parcoords": [
           {
            "line": {
             "colorbar": {
              "outlinewidth": 0,
              "ticks": ""
             }
            },
            "type": "parcoords"
           }
          ],
          "pie": [
           {
            "automargin": true,
            "type": "pie"
           }
          ],
          "scatter": [
           {
            "fillpattern": {
             "fillmode": "overlay",
             "size": 10,
             "solidity": 0.2
            },
            "type": "scatter"
           }
          ],
          "scatter3d": [
           {
            "line": {
             "colorbar": {
              "outlinewidth": 0,
              "ticks": ""
             }
            },
            "marker": {
             "colorbar": {
              "outlinewidth": 0,
              "ticks": ""
             }
            },
            "type": "scatter3d"
           }
          ],
          "scattercarpet": [
           {
            "marker": {
             "colorbar": {
              "outlinewidth": 0,
              "ticks": ""
             }
            },
            "type": "scattercarpet"
           }
          ],
          "scattergeo": [
           {
            "marker": {
             "colorbar": {
              "outlinewidth": 0,
              "ticks": ""
             }
            },
            "type": "scattergeo"
           }
          ],
          "scattergl": [
           {
            "marker": {
             "colorbar": {
              "outlinewidth": 0,
              "ticks": ""
             }
            },
            "type": "scattergl"
           }
          ],
          "scattermap": [
           {
            "marker": {
             "colorbar": {
              "outlinewidth": 0,
              "ticks": ""
             }
            },
            "type": "scattermap"
           }
          ],
          "scattermapbox": [
           {
            "marker": {
             "colorbar": {
              "outlinewidth": 0,
              "ticks": ""
             }
            },
            "type": "scattermapbox"
           }
          ],
          "scatterpolar": [
           {
            "marker": {
             "colorbar": {
              "outlinewidth": 0,
              "ticks": ""
             }
            },
            "type": "scatterpolar"
           }
          ],
          "scatterpolargl": [
           {
            "marker": {
             "colorbar": {
              "outlinewidth": 0,
              "ticks": ""
             }
            },
            "type": "scatterpolargl"
           }
          ],
          "scatterternary": [
           {
            "marker": {
             "colorbar": {
              "outlinewidth": 0,
              "ticks": ""
             }
            },
            "type": "scatterternary"
           }
          ],
          "surface": [
           {
            "colorbar": {
             "outlinewidth": 0,
             "ticks": ""
            },
            "colorscale": [
             [
              0,
              "#0d0887"
             ],
             [
              0.1111111111111111,
              "#46039f"
             ],
             [
              0.2222222222222222,
              "#7201a8"
             ],
             [
              0.3333333333333333,
              "#9c179e"
             ],
             [
              0.4444444444444444,
              "#bd3786"
             ],
             [
              0.5555555555555556,
              "#d8576b"
             ],
             [
              0.6666666666666666,
              "#ed7953"
             ],
             [
              0.7777777777777778,
              "#fb9f3a"
             ],
             [
              0.8888888888888888,
              "#fdca26"
             ],
             [
              1,
              "#f0f921"
             ]
            ],
            "type": "surface"
           }
          ],
          "table": [
           {
            "cells": {
             "fill": {
              "color": "#EBF0F8"
             },
             "line": {
              "color": "white"
             }
            },
            "header": {
             "fill": {
              "color": "#C8D4E3"
             },
             "line": {
              "color": "white"
             }
            },
            "type": "table"
           }
          ]
         },
         "layout": {
          "annotationdefaults": {
           "arrowcolor": "#2a3f5f",
           "arrowhead": 0,
           "arrowwidth": 1
          },
          "autotypenumbers": "strict",
          "coloraxis": {
           "colorbar": {
            "outlinewidth": 0,
            "ticks": ""
           }
          },
          "colorscale": {
           "diverging": [
            [
             0,
             "#8e0152"
            ],
            [
             0.1,
             "#c51b7d"
            ],
            [
             0.2,
             "#de77ae"
            ],
            [
             0.3,
             "#f1b6da"
            ],
            [
             0.4,
             "#fde0ef"
            ],
            [
             0.5,
             "#f7f7f7"
            ],
            [
             0.6,
             "#e6f5d0"
            ],
            [
             0.7,
             "#b8e186"
            ],
            [
             0.8,
             "#7fbc41"
            ],
            [
             0.9,
             "#4d9221"
            ],
            [
             1,
             "#276419"
            ]
           ],
           "sequential": [
            [
             0,
             "#0d0887"
            ],
            [
             0.1111111111111111,
             "#46039f"
            ],
            [
             0.2222222222222222,
             "#7201a8"
            ],
            [
             0.3333333333333333,
             "#9c179e"
            ],
            [
             0.4444444444444444,
             "#bd3786"
            ],
            [
             0.5555555555555556,
             "#d8576b"
            ],
            [
             0.6666666666666666,
             "#ed7953"
            ],
            [
             0.7777777777777778,
             "#fb9f3a"
            ],
            [
             0.8888888888888888,
             "#fdca26"
            ],
            [
             1,
             "#f0f921"
            ]
           ],
           "sequentialminus": [
            [
             0,
             "#0d0887"
            ],
            [
             0.1111111111111111,
             "#46039f"
            ],
            [
             0.2222222222222222,
             "#7201a8"
            ],
            [
             0.3333333333333333,
             "#9c179e"
            ],
            [
             0.4444444444444444,
             "#bd3786"
            ],
            [
             0.5555555555555556,
             "#d8576b"
            ],
            [
             0.6666666666666666,
             "#ed7953"
            ],
            [
             0.7777777777777778,
             "#fb9f3a"
            ],
            [
             0.8888888888888888,
             "#fdca26"
            ],
            [
             1,
             "#f0f921"
            ]
           ]
          },
          "colorway": [
           "#636efa",
           "#EF553B",
           "#00cc96",
           "#ab63fa",
           "#FFA15A",
           "#19d3f3",
           "#FF6692",
           "#B6E880",
           "#FF97FF",
           "#FECB52"
          ],
          "font": {
           "color": "#2a3f5f"
          },
          "geo": {
           "bgcolor": "white",
           "lakecolor": "white",
           "landcolor": "#E5ECF6",
           "showlakes": true,
           "showland": true,
           "subunitcolor": "white"
          },
          "hoverlabel": {
           "align": "left"
          },
          "hovermode": "closest",
          "mapbox": {
           "style": "light"
          },
          "paper_bgcolor": "white",
          "plot_bgcolor": "#E5ECF6",
          "polar": {
           "angularaxis": {
            "gridcolor": "white",
            "linecolor": "white",
            "ticks": ""
           },
           "bgcolor": "#E5ECF6",
           "radialaxis": {
            "gridcolor": "white",
            "linecolor": "white",
            "ticks": ""
           }
          },
          "scene": {
           "xaxis": {
            "backgroundcolor": "#E5ECF6",
            "gridcolor": "white",
            "gridwidth": 2,
            "linecolor": "white",
            "showbackground": true,
            "ticks": "",
            "zerolinecolor": "white"
           },
           "yaxis": {
            "backgroundcolor": "#E5ECF6",
            "gridcolor": "white",
            "gridwidth": 2,
            "linecolor": "white",
            "showbackground": true,
            "ticks": "",
            "zerolinecolor": "white"
           },
           "zaxis": {
            "backgroundcolor": "#E5ECF6",
            "gridcolor": "white",
            "gridwidth": 2,
            "linecolor": "white",
            "showbackground": true,
            "ticks": "",
            "zerolinecolor": "white"
           }
          },
          "shapedefaults": {
           "line": {
            "color": "#2a3f5f"
           }
          },
          "ternary": {
           "aaxis": {
            "gridcolor": "white",
            "linecolor": "white",
            "ticks": ""
           },
           "baxis": {
            "gridcolor": "white",
            "linecolor": "white",
            "ticks": ""
           },
           "bgcolor": "#E5ECF6",
           "caxis": {
            "gridcolor": "white",
            "linecolor": "white",
            "ticks": ""
           }
          },
          "title": {
           "x": 0.05
          },
          "xaxis": {
           "automargin": true,
           "gridcolor": "white",
           "linecolor": "white",
           "ticks": "",
           "title": {
            "standoff": 15
           },
           "zerolinecolor": "white",
           "zerolinewidth": 2
          },
          "yaxis": {
           "automargin": true,
           "gridcolor": "white",
           "linecolor": "white",
           "ticks": "",
           "title": {
            "standoff": 15
           },
           "zerolinecolor": "white",
           "zerolinewidth": 2
          }
         }
        },
        "title": {
         "text": "3D Scatter Plot"
        }
       }
      }
     },
     "metadata": {},
     "output_type": "display_data"
    }
   ],
   "source": [
    "import plotly.graph_objects as go\n",
    "import numpy as np\n",
    "\n",
    "# Example: Generate an Nx3 matrix\n",
    "xyz = train_dataset[200]['xyz']  # Replace this with your actual Nx3 data\n",
    "N = len(xyz)\n",
    "\n",
    "for _ in range(2): #plot twice because it doesnt show up on first try for some reason\n",
    "    # Extract columns\n",
    "    x, y, z = xyz[:, 0], xyz[:, 1], xyz[:, 2]\n",
    "    \n",
    "    # Create the 3D scatter plot\n",
    "    fig = go.Figure(data=[go.Scatter3d(\n",
    "        x=x, y=y, z=z,\n",
    "        mode='markers',\n",
    "        marker=dict(\n",
    "            size=5,\n",
    "            color=z,  # Coloring based on z-value\n",
    "            colorscale='Viridis',  # Choose a colorscale\n",
    "            opacity=0.8\n",
    "        )\n",
    "    )])\n",
    "    \n",
    "    # Customize layout\n",
    "    fig.update_layout(\n",
    "        scene=dict(\n",
    "            xaxis_title=\"X\",\n",
    "            yaxis_title=\"Y\",\n",
    "            zaxis_title=\"Z\"\n",
    "        ),\n",
    "        title=\"3D Scatter Plot\"\n",
    "    )\n",
    "\n",
    "fig.show()\n",
    "    "
   ]
  },
  {
   "cell_type": "code",
   "execution_count": 14,
   "metadata": {
    "execution": {
     "iopub.execute_input": "2025-02-27T00:45:25.765753Z",
     "iopub.status.busy": "2025-02-27T00:45:25.765418Z",
     "iopub.status.idle": "2025-02-27T00:45:25.770179Z",
     "shell.execute_reply": "2025-02-27T00:45:25.769368Z",
     "shell.execute_reply.started": "2025-02-27T00:45:25.765723Z"
    },
    "trusted": true
   },
   "outputs": [],
   "source": [
    "train_loader=DataLoader(train_dataset,batch_size=1,shuffle=True)\n",
    "val_loader=DataLoader(val_dataset,batch_size=1,shuffle=False)"
   ]
  },
  {
   "cell_type": "markdown",
   "metadata": {},
   "source": [
    "# Get RibonanzaNet¶\n",
    "We will add a linear layer to predict xyz of C1' atoms"
   ]
  },
  {
   "cell_type": "code",
   "execution_count": 23,
   "metadata": {
    "execution": {
     "iopub.execute_input": "2025-02-27T00:45:29.905708Z",
     "iopub.status.busy": "2025-02-27T00:45:29.905337Z",
     "iopub.status.idle": "2025-02-27T00:45:29.913239Z",
     "shell.execute_reply": "2025-02-27T00:45:29.91239Z",
     "shell.execute_reply.started": "2025-02-27T00:45:29.905666Z"
    },
    "trusted": true
   },
   "outputs": [],
   "source": [
    "import sys\n",
    "import yaml\n",
    "\n",
    "sys.path.append(\"./RibonanzaNet2D_Final\")\n",
    "\n",
    "from Network import *\n",
    "\n",
    "\n",
    "class Config:\n",
    "    def __init__(self, **entries):\n",
    "        self.__dict__.update(entries)\n",
    "        self.entries=entries\n",
    "\n",
    "    def print(self):\n",
    "        print(self.entries)\n",
    "\n",
    "def load_config_from_yaml(file_path):\n",
    "    with open(file_path, 'r') as file:\n",
    "        config = yaml.safe_load(file)\n",
    "    return Config(**config)\n",
    "\n",
    "\n",
    "class finetuned_RibonanzaNet(RibonanzaNet):\n",
    "    def __init__(self, config, pretrained=False):\n",
    "        config.dropout=0.1\n",
    "        super(finetuned_RibonanzaNet, self).__init__(config)\n",
    "        if pretrained:\n",
    "            model_path = hf_hub_download(repo_id=\"roos23/RibonanzaNet\",filename=\"RibonanzaNet.pt\")\n",
    "            self.load_state_dict(torch.load(model_path,map_location='cpu'))\n",
    "        # self.ct_predictor=nn.Sequential(nn.Linear(64,256),\n",
    "        #                                 nn.ReLU(),\n",
    "        #                                 nn.Linear(256,64),\n",
    "        #                                 nn.ReLU(),\n",
    "        #                                 nn.Linear(64,1)) \n",
    "        self.dropout=nn.Dropout(0.0)\n",
    "        self.xyz_predictor=nn.Linear(256,3)\n",
    "\n",
    "    def forward(self,src):\n",
    "        \n",
    "        #with torch.no_grad():\n",
    "        sequence_features, pairwise_features=self.get_embeddings(src, torch.ones_like(src).long().to(src.device))\n",
    "        xyz=self.xyz_predictor(sequence_features)\n",
    "\n",
    "        return xyz\n",
    "    "
   ]
  },
  {
   "cell_type": "code",
   "execution_count": null,
   "metadata": {
    "execution": {
     "iopub.execute_input": "2025-02-27T00:45:31.498292Z",
     "iopub.status.busy": "2025-02-27T00:45:31.497985Z",
     "iopub.status.idle": "2025-02-27T00:45:31.716488Z",
     "shell.execute_reply": "2025-02-27T00:45:31.715755Z",
     "shell.execute_reply.started": "2025-02-27T00:45:31.498261Z"
    },
    "trusted": true
   },
   "outputs": [
    {
     "name": "stdout",
     "output_type": "stream",
     "text": [
      "constructing 9 ConvTransformerEncoderLayers\n"
     ]
    }
   ],
   "source": [
    "model=finetuned_RibonanzaNet(load_config_from_yaml(\"./RibonanzaNet2D_Final/configs/pairwise.yaml\"),pretrained=True).cuda()"
   ]
  },
  {
   "cell_type": "markdown",
   "metadata": {},
   "source": [
    "# Training loop¶\n",
    "we will use dRMSD loss on the predicted xyz. the loss function is invariant to translations, rotations, and reflections. because dRMSD is invariant to reflections, it cannot distinguish chiral structures, so there may be better loss functions"
   ]
  },
  {
   "cell_type": "code",
   "execution_count": 36,
   "metadata": {
    "execution": {
     "iopub.execute_input": "2025-02-27T00:45:55.509959Z",
     "iopub.status.busy": "2025-02-27T00:45:55.509601Z",
     "iopub.status.idle": "2025-02-27T00:45:55.521025Z",
     "shell.execute_reply": "2025-02-27T00:45:55.520054Z",
     "shell.execute_reply.started": "2025-02-27T00:45:55.509932Z"
    },
    "trusted": true
   },
   "outputs": [],
   "source": [
    "def calculate_distance_matrix(X,Y,epsilon=1e-4):\n",
    "    return (torch.square(X[:,None]-Y[None,:])+epsilon).sum(-1).sqrt()\n",
    "\n",
    "\n",
    "def dRMSD(pred_x,\n",
    "          pred_y,\n",
    "          gt_x,\n",
    "          gt_y,\n",
    "          epsilon=1e-4,Z=10,d_clamp=None):\n",
    "    pred_dm=calculate_distance_matrix(pred_x,pred_y)\n",
    "    gt_dm=calculate_distance_matrix(gt_x,gt_y)\n",
    "\n",
    "\n",
    "\n",
    "    mask=~torch.isnan(gt_dm)\n",
    "    mask[torch.eye(mask.shape[0]).bool()]=False\n",
    "\n",
    "    if d_clamp is not None:\n",
    "        rmsd=(torch.square(pred_dm[mask]-gt_dm[mask])+epsilon).clip(0,d_clamp**2)\n",
    "    else:\n",
    "        rmsd=torch.square(pred_dm[mask]-gt_dm[mask])+epsilon\n",
    "\n",
    "    return rmsd.sqrt().mean()/Z\n",
    "\n",
    "def local_dRMSD(pred_x,\n",
    "          pred_y,\n",
    "          gt_x,\n",
    "          gt_y,\n",
    "          epsilon=1e-4,Z=10,d_clamp=30):\n",
    "    pred_dm=calculate_distance_matrix(pred_x,pred_y)\n",
    "    gt_dm=calculate_distance_matrix(gt_x,gt_y)\n",
    "\n",
    "\n",
    "\n",
    "    mask=(~torch.isnan(gt_dm))*(gt_dm<d_clamp)\n",
    "    mask[torch.eye(mask.shape[0]).bool()]=False\n",
    "\n",
    "\n",
    "\n",
    "    rmsd=torch.square(pred_dm[mask]-gt_dm[mask])+epsilon\n",
    "    # rmsd=(torch.square(pred_dm[mask]-gt_dm[mask])+epsilon).sqrt()/Z\n",
    "    #rmsd=torch.abs(pred_dm[mask]-gt_dm[mask])/Z\n",
    "    return rmsd.sqrt().mean()/Z\n",
    "\n",
    "def dRMAE(pred_x,\n",
    "          pred_y,\n",
    "          gt_x,\n",
    "          gt_y,\n",
    "          epsilon=1e-4,Z=10,d_clamp=None):\n",
    "    pred_dm=calculate_distance_matrix(pred_x,pred_y)\n",
    "    gt_dm=calculate_distance_matrix(gt_x,gt_y)\n",
    "\n",
    "\n",
    "\n",
    "    mask=~torch.isnan(gt_dm)\n",
    "    mask[torch.eye(mask.shape[0]).bool()]=False\n",
    "\n",
    "    rmsd=torch.abs(pred_dm[mask]-gt_dm[mask])\n",
    "\n",
    "    return rmsd.mean()/Z\n",
    "\n",
    "import torch\n",
    "\n",
    "def align_svd_mae(input, target, Z=10):\n",
    "    \"\"\"\n",
    "    Aligns the input (Nx3) to target (Nx3) using SVD-based Procrustes alignment\n",
    "    and computes RMSD loss.\n",
    "    \n",
    "    Args:\n",
    "        input (torch.Tensor): Nx3 tensor representing the input points.\n",
    "        target (torch.Tensor): Nx3 tensor representing the target points.\n",
    "    \n",
    "    Returns:\n",
    "        aligned_input (torch.Tensor): Nx3 aligned input.\n",
    "        rmsd_loss (torch.Tensor): RMSD loss.\n",
    "    \"\"\"\n",
    "    assert input.shape == target.shape, \"Input and target must have the same shape\"\n",
    "\n",
    "    #mask \n",
    "    mask=~torch.isnan(target.sum(-1))\n",
    "\n",
    "    input=input[mask]\n",
    "    target=target[mask]\n",
    "    \n",
    "    # Compute centroids\n",
    "    centroid_input = input.mean(dim=0, keepdim=True)\n",
    "    centroid_target = target.mean(dim=0, keepdim=True)\n",
    "\n",
    "    # Center the points\n",
    "    input_centered = input - centroid_input.detach()\n",
    "    target_centered = target - centroid_target\n",
    "\n",
    "    # Compute covariance matrix\n",
    "    cov_matrix = input_centered.T @ target_centered\n",
    "\n",
    "    # SVD to find optimal rotation\n",
    "    U, S, Vt = torch.svd(cov_matrix)\n",
    "\n",
    "    # Compute rotation matrix\n",
    "    R = Vt @ U.T\n",
    "\n",
    "    # Ensure a proper rotation (det(R) = 1, no reflection)\n",
    "    if torch.det(R) < 0:\n",
    "        Vt[-1, :] *= -1\n",
    "        R = Vt @ U.T\n",
    "\n",
    "    # Rotate input\n",
    "    aligned_input = (input_centered @ R.T.detach()) + centroid_target.detach()\n",
    "\n",
    "    # # Compute RMSD loss\n",
    "    # rmsd_loss = torch.sqrt(((aligned_input - target) ** 2).mean())\n",
    "\n",
    "    # rmsd_loss = torch.sqrt(((aligned_input - target) ** 2).mean())\n",
    "    \n",
    "    # return aligned_input, rmsd_loss\n",
    "    return torch.abs(aligned_input-target).mean()/Z"
   ]
  },
  {
   "cell_type": "code",
   "execution_count": 38,
   "metadata": {},
   "outputs": [],
   "source": [
    "import torch\n",
    "from huggingface_hub import HfApi\n",
    "\n",
    "def save_and_push_to_hub(model, save_path, repo_id, hf_token=None):\n",
    "    # Save locally with torch\n",
    "    torch.save(model.state_dict(), save_path)\n",
    "    print(f\"✅ Saved model to {save_path}\")\n",
    "\n",
    "    # Upload to Hugging Face\n",
    "    api = HfApi()\n",
    "    api.upload_file(\n",
    "        path_or_fileobj=save_path,\n",
    "        path_in_repo=save_path,  # or use a cleaner filename\n",
    "        repo_id=repo_id,\n",
    "        token=hf_token,\n",
    "    )\n",
    "    print(f\"🚀 Uploaded model to Hugging Face: {repo_id}/{save_path}\")"
   ]
  },
  {
   "cell_type": "code",
   "execution_count": null,
   "metadata": {
    "execution": {
     "iopub.execute_input": "2025-02-27T00:46:21.669662Z",
     "iopub.status.busy": "2025-02-27T00:46:21.669341Z"
    },
    "trusted": true
   },
   "outputs": [
    {
     "ename": "NameError",
     "evalue": "name 'model' is not defined",
     "output_type": "error",
     "traceback": [
      "\u001b[31m---------------------------------------------------------------------------\u001b[39m",
      "\u001b[31mNameError\u001b[39m                                 Traceback (most recent call last)",
      "\u001b[36mCell\u001b[39m\u001b[36m \u001b[39m\u001b[32mIn[33]\u001b[39m\u001b[32m, line 9\u001b[39m\n\u001b[32m      5\u001b[39m cos_epoch=\u001b[32m35\u001b[39m\n\u001b[32m      8\u001b[39m best_loss=np.inf\n\u001b[32m----> \u001b[39m\u001b[32m9\u001b[39m optimizer = torch.optim.Adam(\u001b[43mmodel\u001b[49m.parameters(), weight_decay=\u001b[32m0.0\u001b[39m, lr=\u001b[32m0.0001\u001b[39m) \u001b[38;5;66;03m#no weight decay following AF\u001b[39;00m\n\u001b[32m     11\u001b[39m batch_size=\u001b[32m1\u001b[39m\n\u001b[32m     13\u001b[39m \u001b[38;5;66;03m#for cycle in range(2):\u001b[39;00m\n",
      "\u001b[31mNameError\u001b[39m: name 'model' is not defined"
     ]
    }
   ],
   "source": [
    "from tqdm import tqdm\n",
    "from torch.amp import GradScaler\n",
    "from mysecrets import HF_secrets\n",
    "\n",
    "epochs=50\n",
    "cos_epoch=35\n",
    "\n",
    "\n",
    "best_loss=np.inf\n",
    "optimizer = torch.optim.Adam(model.parameters(), weight_decay=0.0, lr=0.0001) #no weight decay following AF\n",
    "\n",
    "batch_size=1\n",
    "\n",
    "#for cycle in range(2):\n",
    "\n",
    "criterion=torch.nn.BCEWithLogitsLoss(reduction='none')\n",
    "\n",
    "scaler = GradScaler()\n",
    "\n",
    "schedule=torch.optim.lr_scheduler.CosineAnnealingLR(optimizer, T_max=(epochs-cos_epoch)*len(train_loader)//batch_size)\n",
    "\n",
    "best_val_loss=99999999999\n",
    "for epoch in range(epochs):\n",
    "    model.train()\n",
    "    tbar=tqdm(train_loader)\n",
    "    total_loss=0\n",
    "    oom=0\n",
    "    for idx, batch in enumerate(tbar):\n",
    "        #try:\n",
    "        sequence=batch['sequence'].cuda()\n",
    "        gt_xyz=batch['xyz'].cuda().squeeze()\n",
    "\n",
    "        #with torch.autocast(device_type='cuda', dtype=torch.float16):\n",
    "        pred_xyz=model(sequence).squeeze()\n",
    "        \n",
    "        loss=dRMAE(pred_xyz,pred_xyz,gt_xyz,gt_xyz) + align_svd_mae(pred_xyz, gt_xyz)\n",
    "             #local_dRMSD(pred_xyz,pred_xyz,gt_xyz,gt_xyz)\n",
    "\n",
    "        if loss!=loss:\n",
    "            break\n",
    "\n",
    "        \n",
    "        (loss/batch_size).backward()\n",
    "\n",
    "        if (idx+1)%batch_size==0 or idx+1 == len(tbar):\n",
    "\n",
    "            torch.nn.utils.clip_grad_norm_(model.parameters(), 1)\n",
    "            optimizer.step()\n",
    "            optimizer.zero_grad()\n",
    "            # scaler.scale(loss/batch_size).backward()\n",
    "            # scaler.unscale_(optimizer)\n",
    "            # torch.nn.utils.clip_grad_norm_(model.parameters(), 1)\n",
    "            # scaler.step(optimizer)\n",
    "            # scaler.update()\n",
    "\n",
    "            \n",
    "            if (epoch+1)>cos_epoch:\n",
    "                schedule.step()\n",
    "        #schedule.step()\n",
    "        total_loss+=loss.item()\n",
    "        \n",
    "        tbar.set_description(f\"Epoch {epoch + 1} Loss: {total_loss/(idx+1)} OOMs: {oom}\")\n",
    "\n",
    "\n",
    "\n",
    "        # except Exception:\n",
    "        #     #print(Exception)\n",
    "        #     oom+=1\n",
    "    tbar=tqdm(val_loader)\n",
    "    model.eval()\n",
    "    val_preds=[]\n",
    "    val_loss=0\n",
    "    for idx, batch in enumerate(tbar):\n",
    "        sequence=batch['sequence'].cuda()\n",
    "        gt_xyz=batch['xyz'].cuda().squeeze()\n",
    "\n",
    "        with torch.no_grad():\n",
    "            pred_xyz=model(sequence).squeeze()\n",
    "            loss=dRMAE(pred_xyz,pred_xyz,gt_xyz,gt_xyz)\n",
    "            \n",
    "        val_loss+=loss.item()\n",
    "        val_preds.append([gt_xyz.cpu().numpy(),pred_xyz.cpu().numpy()])\n",
    "    val_loss=val_loss/len(tbar)\n",
    "    print(f\"val loss: {val_loss}\")\n",
    "    \n",
    "    if val_loss<best_val_loss:\n",
    "        best_val_loss=val_loss\n",
    "        best_preds=val_preds\n",
    "        save_and_push_to_hub(model, save_path='Finetuned.pt',repo_id='roos23/RibonanzaFineTuned',hf_token=HF_secrets)\n",
    "\n",
    "save_and_push_to_hub(model, save_path='Finetuned.pt',repo_id='roos23/RibonanzaFineTuned',hf_token=HF_secrets)"
   ]
  }
 ],
 "metadata": {
  "kaggle": {
   "accelerator": "gpu",
   "dataSources": [
    {
     "databundleVersionId": 11512973,
     "sourceId": 87793,
     "sourceType": "competition"
    },
    {
     "datasetId": 4299272,
     "sourceId": 7639698,
     "sourceType": "datasetVersion"
    },
    {
     "datasetId": 4459124,
     "sourceId": 8318191,
     "sourceType": "datasetVersion"
    }
   ],
   "dockerImageVersionId": 30919,
   "isGpuEnabled": true,
   "isInternetEnabled": true,
   "language": "python",
   "sourceType": "notebook"
  },
  "kernelspec": {
   "display_name": "RNA_env",
   "language": "python",
   "name": "python3"
  },
  "language_info": {
   "codemirror_mode": {
    "name": "ipython",
    "version": 3
   },
   "file_extension": ".py",
   "mimetype": "text/x-python",
   "name": "python",
   "nbconvert_exporter": "python",
   "pygments_lexer": "ipython3",
   "version": "3.12.9"
  }
 },
 "nbformat": 4,
 "nbformat_minor": 4
}
