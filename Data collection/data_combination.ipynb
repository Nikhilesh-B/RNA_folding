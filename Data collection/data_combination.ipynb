{
 "cells": [
  {
   "cell_type": "code",
   "execution_count": 1,
   "metadata": {},
   "outputs": [],
   "source": [
    "import pandas as pd\n",
    "\n",
    "# Load the two CSV files\n",
    "df1 = pd.read_csv(\"./Fresh data/train_sequences.csv\")\n",
    "df2 = pd.read_csv(\"./OG data provided/train_sequences.csv\")\n",
    "\n",
    "# Concatenate them (ignoring the original index)\n",
    "df_combined = pd.concat([df1, df2], ignore_index=True)\n",
    "\n",
    "# Save the concatenated dataframe to a new CSV file\n",
    "df_combined.to_csv(\"../Stanford RNA/train_sequences.csv\", index=False)"
   ]
  },
  {
   "cell_type": "code",
   "execution_count": 2,
   "metadata": {},
   "outputs": [],
   "source": [
    "import pandas as pd\n",
    "\n",
    "# Load the two CSV files\n",
    "df1 = pd.read_csv(\"./Fresh data/train_labels.csv\")\n",
    "df2 = pd.read_csv(\"./OG data provided/train_labels.csv\")\n",
    "\n",
    "# Concatenate them (ignoring the original index)\n",
    "df_combined = pd.concat([df1, df2], ignore_index=True)\n",
    "\n",
    "# Save the concatenated dataframe to a new CSV file\n",
    "df_combined.to_csv(\"../Stanford RNA/train_labels.csv\", index=False)"
   ]
  }
 ],
 "metadata": {
  "kernelspec": {
   "display_name": "RNA_env",
   "language": "python",
   "name": "python3"
  },
  "language_info": {
   "codemirror_mode": {
    "name": "ipython",
    "version": 3
   },
   "file_extension": ".py",
   "mimetype": "text/x-python",
   "name": "python",
   "nbconvert_exporter": "python",
   "pygments_lexer": "ipython3",
   "version": "3.12.9"
  }
 },
 "nbformat": 4,
 "nbformat_minor": 2
}
